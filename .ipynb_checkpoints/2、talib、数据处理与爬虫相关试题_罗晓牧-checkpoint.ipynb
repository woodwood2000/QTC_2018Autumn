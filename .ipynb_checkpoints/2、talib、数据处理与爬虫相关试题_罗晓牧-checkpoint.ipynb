{
 "cells": [
  {
   "cell_type": "markdown",
   "metadata": {},
   "source": [
    "# 4. 数据计算与统计试题"
   ]
  },
  {
   "cell_type": "markdown",
   "metadata": {},
   "source": [
    "4.1计算股票600104与600518的相关系数、spearman排序相关性与30天滚动的五日收益协方差"
   ]
  },
  {
   "cell_type": "code",
   "execution_count": 1,
   "metadata": {},
   "outputs": [],
   "source": [
    "import pandas as pd\n",
    "df = pd.read_excel(\"sz50.xlsx\", sheetname=None, index_col=\"datetime\")"
   ]
  },
  {
   "cell_type": "code",
   "execution_count": 2,
   "metadata": {},
   "outputs": [
    {
     "data": {
      "text/html": [
       "<div>\n",
       "<style>\n",
       "    .dataframe thead tr:only-child th {\n",
       "        text-align: right;\n",
       "    }\n",
       "\n",
       "    .dataframe thead th {\n",
       "        text-align: left;\n",
       "    }\n",
       "\n",
       "    .dataframe tbody tr th {\n",
       "        vertical-align: top;\n",
       "    }\n",
       "</style>\n",
       "<table border=\"1\" class=\"dataframe\">\n",
       "  <thead>\n",
       "    <tr style=\"text-align: right;\">\n",
       "      <th></th>\n",
       "      <th>stock1</th>\n",
       "      <th>stock2</th>\n",
       "    </tr>\n",
       "    <tr>\n",
       "      <th>datetime</th>\n",
       "      <th></th>\n",
       "      <th></th>\n",
       "    </tr>\n",
       "  </thead>\n",
       "  <tbody>\n",
       "    <tr>\n",
       "      <th>2017-11-14 15:00:00</th>\n",
       "      <td>204.03</td>\n",
       "      <td>801.67</td>\n",
       "    </tr>\n",
       "    <tr>\n",
       "      <th>2017-11-15 15:00:00</th>\n",
       "      <td>202.78</td>\n",
       "      <td>807.31</td>\n",
       "    </tr>\n",
       "    <tr>\n",
       "      <th>2017-11-16 15:00:00</th>\n",
       "      <td>200.97</td>\n",
       "      <td>829.20</td>\n",
       "    </tr>\n",
       "    <tr>\n",
       "      <th>2017-11-17 15:00:00</th>\n",
       "      <td>207.21</td>\n",
       "      <td>842.97</td>\n",
       "    </tr>\n",
       "    <tr>\n",
       "      <th>2017-11-20 15:00:00</th>\n",
       "      <td>206.46</td>\n",
       "      <td>836.97</td>\n",
       "    </tr>\n",
       "  </tbody>\n",
       "</table>\n",
       "</div>"
      ],
      "text/plain": [
       "                     stock1  stock2\n",
       "datetime                           \n",
       "2017-11-14 15:00:00  204.03  801.67\n",
       "2017-11-15 15:00:00  202.78  807.31\n",
       "2017-11-16 15:00:00  200.97  829.20\n",
       "2017-11-17 15:00:00  207.21  842.97\n",
       "2017-11-20 15:00:00  206.46  836.97"
      ]
     },
     "execution_count": 2,
     "metadata": {},
     "output_type": "execute_result"
    }
   ],
   "source": [
    "df2 = pd.DataFrame()\n",
    "df2['stock1'] = df['600104.XSHG'].close\n",
    "df2['stock2'] = df['600518.XSHG'].close\n",
    "df2.tail()"
   ]
  },
  {
   "cell_type": "code",
   "execution_count": 5,
   "metadata": {},
   "outputs": [
    {
     "data": {
      "text/html": [
       "<div>\n",
       "<style>\n",
       "    .dataframe thead tr:only-child th {\n",
       "        text-align: right;\n",
       "    }\n",
       "\n",
       "    .dataframe thead th {\n",
       "        text-align: left;\n",
       "    }\n",
       "\n",
       "    .dataframe tbody tr th {\n",
       "        vertical-align: top;\n",
       "    }\n",
       "</style>\n",
       "<table border=\"1\" class=\"dataframe\">\n",
       "  <thead>\n",
       "    <tr style=\"text-align: right;\">\n",
       "      <th></th>\n",
       "      <th>stock1</th>\n",
       "      <th>stock2</th>\n",
       "    </tr>\n",
       "  </thead>\n",
       "  <tbody>\n",
       "    <tr>\n",
       "      <th>stock1</th>\n",
       "      <td>1.000000</td>\n",
       "      <td>0.900076</td>\n",
       "    </tr>\n",
       "    <tr>\n",
       "      <th>stock2</th>\n",
       "      <td>0.900076</td>\n",
       "      <td>1.000000</td>\n",
       "    </tr>\n",
       "  </tbody>\n",
       "</table>\n",
       "</div>"
      ],
      "text/plain": [
       "          stock1    stock2\n",
       "stock1  1.000000  0.900076\n",
       "stock2  0.900076  1.000000"
      ]
     },
     "execution_count": 5,
     "metadata": {},
     "output_type": "execute_result"
    }
   ],
   "source": [
    "# 相关系数\n",
    "df2.corr()"
   ]
  },
  {
   "cell_type": "code",
   "execution_count": 11,
   "metadata": {},
   "outputs": [
    {
     "data": {
      "text/plain": [
       "SpearmanrResult(correlation=0.8094548526121733, pvalue=3.772267427829523e-51)"
      ]
     },
     "execution_count": 11,
     "metadata": {},
     "output_type": "execute_result"
    }
   ],
   "source": [
    "from scipy.stats import spearmanr\n",
    "spearmanr(df2)"
   ]
  },
  {
   "cell_type": "code",
   "execution_count": 20,
   "metadata": {},
   "outputs": [
    {
     "name": "stdout",
     "output_type": "stream",
     "text": [
      "                              stock1    stock2\n",
      "datetime                                      \n",
      "2017-11-16 15:00:00 stock1  0.001200  0.000289\n",
      "                    stock2  0.000289  0.000682\n",
      "2017-11-17 15:00:00 stock1  0.001196  0.000291\n",
      "                    stock2  0.000291  0.000710\n",
      "2017-11-20 15:00:00 stock1  0.001192  0.000318\n",
      "                    stock2  0.000318  0.000696\n"
     ]
    }
   ],
   "source": [
    "cov_30 = df2.pct_change(5).rolling(30).cov()\n",
    "print(cov_30.tail(6))"
   ]
  },
  {
   "cell_type": "markdown",
   "metadata": {},
   "source": [
    "4.2\n",
    "读取600104.XSHG的股票日线\n",
    "\n",
    "利用正确的方法将日K线聚合成周K线\n",
    "\n",
    "将周K线画出来"
   ]
  },
  {
   "cell_type": "code",
   "execution_count": 75,
   "metadata": {},
   "outputs": [],
   "source": [
    "df = pd.read_excel(\"sz50.xlsx\", sheetname=\"600104.XSHG\", index_col=\"datetime\")"
   ]
  },
  {
   "cell_type": "code",
   "execution_count": 76,
   "metadata": {},
   "outputs": [
    {
     "data": {
      "text/html": [
       "<div>\n",
       "<style>\n",
       "    .dataframe thead tr:only-child th {\n",
       "        text-align: right;\n",
       "    }\n",
       "\n",
       "    .dataframe thead th {\n",
       "        text-align: left;\n",
       "    }\n",
       "\n",
       "    .dataframe tbody tr th {\n",
       "        vertical-align: top;\n",
       "    }\n",
       "</style>\n",
       "<table border=\"1\" class=\"dataframe\">\n",
       "  <thead>\n",
       "    <tr style=\"text-align: right;\">\n",
       "      <th></th>\n",
       "      <th>open</th>\n",
       "      <th>high</th>\n",
       "      <th>low</th>\n",
       "      <th>close</th>\n",
       "      <th>volume</th>\n",
       "    </tr>\n",
       "    <tr>\n",
       "      <th>datetime</th>\n",
       "      <th></th>\n",
       "      <th></th>\n",
       "      <th></th>\n",
       "      <th></th>\n",
       "      <th></th>\n",
       "    </tr>\n",
       "  </thead>\n",
       "  <tbody>\n",
       "    <tr>\n",
       "      <th>2017-01-08</th>\n",
       "      <td>139.39</td>\n",
       "      <td>144.89</td>\n",
       "      <td>139.39</td>\n",
       "      <td>141.41</td>\n",
       "      <td>114223480.0</td>\n",
       "    </tr>\n",
       "    <tr>\n",
       "      <th>2017-01-15</th>\n",
       "      <td>141.52</td>\n",
       "      <td>143.24</td>\n",
       "      <td>140.40</td>\n",
       "      <td>142.82</td>\n",
       "      <td>109454916.0</td>\n",
       "    </tr>\n",
       "    <tr>\n",
       "      <th>2017-01-22</th>\n",
       "      <td>143.36</td>\n",
       "      <td>152.35</td>\n",
       "      <td>142.12</td>\n",
       "      <td>149.03</td>\n",
       "      <td>143137664.0</td>\n",
       "    </tr>\n",
       "    <tr>\n",
       "      <th>2017-01-29</th>\n",
       "      <td>149.63</td>\n",
       "      <td>151.99</td>\n",
       "      <td>146.37</td>\n",
       "      <td>149.80</td>\n",
       "      <td>91758878.0</td>\n",
       "    </tr>\n",
       "    <tr>\n",
       "      <th>2017-02-05</th>\n",
       "      <td>149.63</td>\n",
       "      <td>150.22</td>\n",
       "      <td>147.85</td>\n",
       "      <td>148.44</td>\n",
       "      <td>8834386.0</td>\n",
       "    </tr>\n",
       "  </tbody>\n",
       "</table>\n",
       "</div>"
      ],
      "text/plain": [
       "              open    high     low   close       volume\n",
       "datetime                                               \n",
       "2017-01-08  139.39  144.89  139.39  141.41  114223480.0\n",
       "2017-01-15  141.52  143.24  140.40  142.82  109454916.0\n",
       "2017-01-22  143.36  152.35  142.12  149.03  143137664.0\n",
       "2017-01-29  149.63  151.99  146.37  149.80   91758878.0\n",
       "2017-02-05  149.63  150.22  147.85  148.44    8834386.0"
      ]
     },
     "execution_count": 76,
     "metadata": {},
     "output_type": "execute_result"
    }
   ],
   "source": [
    "period_df = df.resample(rule='w').agg(\n",
    "    {'open': 'first',\n",
    "     'high': 'max',\n",
    "     'low': 'min',\n",
    "     'close': 'last',\n",
    "     'volume': 'sum',\n",
    "    })\n",
    "period_df.head()"
   ]
  },
  {
   "cell_type": "code",
   "execution_count": 79,
   "metadata": {},
   "outputs": [
    {
     "data": {
      "text/html": [
       "<div>\n",
       "<style>\n",
       "    .dataframe thead tr:only-child th {\n",
       "        text-align: right;\n",
       "    }\n",
       "\n",
       "    .dataframe thead th {\n",
       "        text-align: left;\n",
       "    }\n",
       "\n",
       "    .dataframe tbody tr th {\n",
       "        vertical-align: top;\n",
       "    }\n",
       "</style>\n",
       "<table border=\"1\" class=\"dataframe\">\n",
       "  <thead>\n",
       "    <tr style=\"text-align: right;\">\n",
       "      <th></th>\n",
       "      <th>datetime</th>\n",
       "      <th>open</th>\n",
       "      <th>high</th>\n",
       "      <th>low</th>\n",
       "      <th>close</th>\n",
       "      <th>volume</th>\n",
       "    </tr>\n",
       "  </thead>\n",
       "  <tbody>\n",
       "    <tr>\n",
       "      <th>0</th>\n",
       "      <td>2017-01-08</td>\n",
       "      <td>139.39</td>\n",
       "      <td>144.89</td>\n",
       "      <td>139.39</td>\n",
       "      <td>141.41</td>\n",
       "      <td>114223480.0</td>\n",
       "    </tr>\n",
       "    <tr>\n",
       "      <th>1</th>\n",
       "      <td>2017-01-15</td>\n",
       "      <td>141.52</td>\n",
       "      <td>143.24</td>\n",
       "      <td>140.40</td>\n",
       "      <td>142.82</td>\n",
       "      <td>109454916.0</td>\n",
       "    </tr>\n",
       "    <tr>\n",
       "      <th>2</th>\n",
       "      <td>2017-01-22</td>\n",
       "      <td>143.36</td>\n",
       "      <td>152.35</td>\n",
       "      <td>142.12</td>\n",
       "      <td>149.03</td>\n",
       "      <td>143137664.0</td>\n",
       "    </tr>\n",
       "    <tr>\n",
       "      <th>3</th>\n",
       "      <td>2017-01-29</td>\n",
       "      <td>149.63</td>\n",
       "      <td>151.99</td>\n",
       "      <td>146.37</td>\n",
       "      <td>149.80</td>\n",
       "      <td>91758878.0</td>\n",
       "    </tr>\n",
       "    <tr>\n",
       "      <th>4</th>\n",
       "      <td>2017-02-05</td>\n",
       "      <td>149.63</td>\n",
       "      <td>150.22</td>\n",
       "      <td>147.85</td>\n",
       "      <td>148.44</td>\n",
       "      <td>8834386.0</td>\n",
       "    </tr>\n",
       "  </tbody>\n",
       "</table>\n",
       "</div>"
      ],
      "text/plain": [
       "    datetime    open    high     low   close       volume\n",
       "0 2017-01-08  139.39  144.89  139.39  141.41  114223480.0\n",
       "1 2017-01-15  141.52  143.24  140.40  142.82  109454916.0\n",
       "2 2017-01-22  143.36  152.35  142.12  149.03  143137664.0\n",
       "3 2017-01-29  149.63  151.99  146.37  149.80   91758878.0\n",
       "4 2017-02-05  149.63  150.22  147.85  148.44    8834386.0"
      ]
     },
     "execution_count": 79,
     "metadata": {},
     "output_type": "execute_result"
    }
   ],
   "source": [
    "from mpl_finance import candlestick_ohlc\n",
    "\n",
    "import matplotlib.pyplot as plt\n",
    "candle_df = period_df.reset_index('datetime')\n",
    "candle_df['datetime'].apply()\n",
    "candle_df.head()"
   ]
  },
  {
   "cell_type": "code",
   "execution_count": 80,
   "metadata": {},
   "outputs": [
    {
     "ename": "TypeError",
     "evalue": "unsupported operand type(s) for -: 'Timestamp' and 'float'",
     "output_type": "error",
     "traceback": [
      "\u001b[0;31m---------------------------------------------------------------------------\u001b[0m",
      "\u001b[0;31mTypeError\u001b[0m                                 Traceback (most recent call last)",
      "\u001b[0;32m<ipython-input-80-46c1297e1185>\u001b[0m in \u001b[0;36m<module>\u001b[0;34m()\u001b[0m\n\u001b[1;32m      3\u001b[0m \u001b[0max\u001b[0m\u001b[0;34m.\u001b[0m\u001b[0mgrid\u001b[0m\u001b[0;34m(\u001b[0m\u001b[0;32mTrue\u001b[0m\u001b[0;34m)\u001b[0m\u001b[0;34m\u001b[0m\u001b[0m\n\u001b[1;32m      4\u001b[0m \u001b[0max\u001b[0m\u001b[0;34m.\u001b[0m\u001b[0mxaxis_date\u001b[0m\u001b[0;34m(\u001b[0m\u001b[0;34m)\u001b[0m\u001b[0;34m\u001b[0m\u001b[0m\n\u001b[0;32m----> 5\u001b[0;31m \u001b[0mcandlestick_ohlc\u001b[0m\u001b[0;34m(\u001b[0m\u001b[0max\u001b[0m\u001b[0;34m,\u001b[0m \u001b[0mcandle_df\u001b[0m\u001b[0;34m.\u001b[0m\u001b[0mvalues\u001b[0m\u001b[0;34m,\u001b[0m \u001b[0mwidth\u001b[0m\u001b[0;34m=\u001b[0m\u001b[0;36m0.6\u001b[0m\u001b[0;34m,\u001b[0m \u001b[0mcolorup\u001b[0m\u001b[0;34m=\u001b[0m\u001b[0;34m'r'\u001b[0m\u001b[0;34m,\u001b[0m \u001b[0mcolordown\u001b[0m\u001b[0;34m=\u001b[0m\u001b[0;34m'g'\u001b[0m\u001b[0;34m,\u001b[0m \u001b[0malpha\u001b[0m\u001b[0;34m=\u001b[0m\u001b[0;36m1.0\u001b[0m\u001b[0;34m)\u001b[0m\u001b[0;34m\u001b[0m\u001b[0m\n\u001b[0m\u001b[1;32m      6\u001b[0m \u001b[0mplt\u001b[0m\u001b[0;34m.\u001b[0m\u001b[0mshow\u001b[0m\u001b[0;34m(\u001b[0m\u001b[0;34m)\u001b[0m\u001b[0;34m\u001b[0m\u001b[0m\n",
      "\u001b[0;32m~/anaconda3/lib/python3.6/site-packages/mpl_finance.py\u001b[0m in \u001b[0;36mcandlestick_ohlc\u001b[0;34m(ax, quotes, width, colorup, colordown, alpha)\u001b[0m\n\u001b[1;32m    234\u001b[0m     return _candlestick(ax, quotes, width=width, colorup=colorup,\n\u001b[1;32m    235\u001b[0m                         \u001b[0mcolordown\u001b[0m\u001b[0;34m=\u001b[0m\u001b[0mcolordown\u001b[0m\u001b[0;34m,\u001b[0m\u001b[0;34m\u001b[0m\u001b[0m\n\u001b[0;32m--> 236\u001b[0;31m                         alpha=alpha, ochl=False)\n\u001b[0m\u001b[1;32m    237\u001b[0m \u001b[0;34m\u001b[0m\u001b[0m\n\u001b[1;32m    238\u001b[0m \u001b[0;34m\u001b[0m\u001b[0m\n",
      "\u001b[0;32m~/anaconda3/lib/python3.6/site-packages/mpl_finance.py\u001b[0m in \u001b[0;36m_candlestick\u001b[0;34m(ax, quotes, width, colorup, colordown, alpha, ochl)\u001b[0m\n\u001b[1;32m    300\u001b[0m \u001b[0;34m\u001b[0m\u001b[0m\n\u001b[1;32m    301\u001b[0m         rect = Rectangle(\n\u001b[0;32m--> 302\u001b[0;31m             \u001b[0mxy\u001b[0m\u001b[0;34m=\u001b[0m\u001b[0;34m(\u001b[0m\u001b[0mt\u001b[0m \u001b[0;34m-\u001b[0m \u001b[0mOFFSET\u001b[0m\u001b[0;34m,\u001b[0m \u001b[0mlower\u001b[0m\u001b[0;34m)\u001b[0m\u001b[0;34m,\u001b[0m\u001b[0;34m\u001b[0m\u001b[0m\n\u001b[0m\u001b[1;32m    303\u001b[0m             \u001b[0mwidth\u001b[0m\u001b[0;34m=\u001b[0m\u001b[0mwidth\u001b[0m\u001b[0;34m,\u001b[0m\u001b[0;34m\u001b[0m\u001b[0m\n\u001b[1;32m    304\u001b[0m             \u001b[0mheight\u001b[0m\u001b[0;34m=\u001b[0m\u001b[0mheight\u001b[0m\u001b[0;34m,\u001b[0m\u001b[0;34m\u001b[0m\u001b[0m\n",
      "\u001b[0;31mTypeError\u001b[0m: unsupported operand type(s) for -: 'Timestamp' and 'float'"
     ]
    },
    {
     "data": {
      "image/png": "[encoded data removed]",
      "text/plain": [
       "<Figure size 720x360 with 1 Axes>"
      ]
     },
     "metadata": {},
     "output_type": "display_data"
    }
   ],
   "source": [
    "plt.figure(figsize=(10,5))\n",
    "ax = plt.gca()\n",
    "ax.grid(True)\n",
    "ax.xaxis_date()\n",
    "candlestick_ohlc(ax, candle_df.values, width=0.6, colorup='r', colordown='g', alpha=1.0)\n",
    "plt.show()"
   ]
  },
  {
   "cell_type": "code",
   "execution_count": 81,
   "metadata": {},
   "outputs": [],
   "source": [
    "candlestick_ohlc?"
   ]
  },
  {
   "cell_type": "markdown",
   "metadata": {},
   "source": [
    "4.3 读取股票601857数据，计算股票回报率，判断样本在2017-01-01,到2017-12-31，有没有服从正态分布，并判断样本均值是否为0"
   ]
  },
  {
   "cell_type": "code",
   "execution_count": 3,
   "metadata": {},
   "outputs": [
    {
     "name": "stdout",
     "output_type": "stream",
     "text": [
      "判断样本分布不服从正态分布\n"
     ]
    }
   ],
   "source": []
  },
  {
   "cell_type": "code",
   "execution_count": 4,
   "metadata": {},
   "outputs": [
    {
     "name": "stdout",
     "output_type": "stream",
     "text": [
      "判断样本均值为0\n"
     ]
    }
   ],
   "source": []
  },
  {
   "cell_type": "markdown",
   "metadata": {},
   "source": [
    "4.4用talib计算601901.XSHG以10天为周期的EMA，再算出DEMA，打印两个结果的最后5个数据"
   ]
  },
  {
   "cell_type": "code",
   "execution_count": 10,
   "metadata": {},
   "outputs": [
    {
     "name": "stdout",
     "output_type": "stream",
     "text": [
      "                        close\n",
      "datetime                     \n",
      "2017-11-14 15:00:00  8.602581\n",
      "2017-11-15 15:00:00  8.572151\n",
      "2017-11-16 15:00:00  8.479642\n",
      "2017-11-17 15:00:00  8.354917\n",
      "2017-11-20 15:00:00  8.299691\n"
     ]
    }
   ],
   "source": []
  },
  {
   "cell_type": "code",
   "execution_count": 11,
   "metadata": {},
   "outputs": [
    {
     "name": "stdout",
     "output_type": "stream",
     "text": [
      "datetime\n",
      "2017-11-14 15:00:00    8.602581\n",
      "2017-11-15 15:00:00    8.572151\n",
      "2017-11-16 15:00:00    8.479642\n",
      "2017-11-17 15:00:00    8.354917\n",
      "2017-11-20 15:00:00    8.299691\n",
      "Name: dema, dtype: float64\n"
     ]
    }
   ],
   "source": []
  },
  {
   "cell_type": "markdown",
   "metadata": {},
   "source": [
    "# 5.爬虫考试，随意爬取一个网站做你想做的数据分析，并用可视化手段展示​，最后不要直接展示html代码,可为pdf、excel等形式"
   ]
  },
  {
   "cell_type": "markdown",
   "metadata": {},
   "source": [
    "各类网站，如豆瓣网，雪球网，糗事百科及其它，内容只要不涉及相关禁令即可。\n",
    "\n",
    "optional（可对爬虫的内容做更多处理）"
   ]
  },
  {
   "cell_type": "code",
   "execution_count": null,
   "metadata": {},
   "outputs": [],
   "source": []
  }
 ],
 "metadata": {
  "kernelspec": {
   "display_name": "Python 3",
   "language": "python",
   "name": "python3"
  },
  "language_info": {
   "codemirror_mode": {
    "name": "ipython",
    "version": 3
   },
   "file_extension": ".py",
   "mimetype": "text/x-python",
   "name": "python",
   "nbconvert_exporter": "python",
   "pygments_lexer": "ipython3",
   "version": "3.6.4"
  }
 },
 "nbformat": 4,
 "nbformat_minor": 2
}
